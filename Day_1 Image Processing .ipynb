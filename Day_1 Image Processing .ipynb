{
 "cells": [
  {
   "cell_type": "markdown",
   "id": "7825c06e",
   "metadata": {},
   "source": [
    "# #Image Resizing, changing pixels etc.."
   ]
  },
  {
   "cell_type": "code",
   "execution_count": 2,
   "id": "5b0fb1a9",
   "metadata": {},
   "outputs": [],
   "source": [
    "#Image Viewing\n",
    "from PIL import Image\n",
    "img = Image.open('Luffy.jpg')\n",
    "img.show()"
   ]
  },
  {
   "cell_type": "code",
   "execution_count": 3,
   "id": "dbf11180",
   "metadata": {},
   "outputs": [],
   "source": [
    "#Saving image by giving new name \n",
    "from PIL import Image\n",
    "img = Image.open(\"Luffy.jpg\")\n",
    "img.show()\n",
    "img.save('MonkeyDLuffy.jpg')\n",
    "img.show()"
   ]
  },
  {
   "cell_type": "code",
   "execution_count": 4,
   "id": "a6ae89f7",
   "metadata": {},
   "outputs": [
    {
     "name": "stdout",
     "output_type": "stream",
     "text": [
      "(1600, 899)\n"
     ]
    }
   ],
   "source": [
    "#Size Of Image\n",
    "from PIL import Image\n",
    "img = Image.open(\"Luffy.jpg\")\n",
    "print(img.size)"
   ]
  },
  {
   "cell_type": "code",
   "execution_count": 5,
   "id": "0e204ead",
   "metadata": {},
   "outputs": [
    {
     "name": "stdout",
     "output_type": "stream",
     "text": [
      "Width =  1600\n",
      "Height= 899\n"
     ]
    }
   ],
   "source": [
    "#Width and height of Image\n",
    "from PIL import Image\n",
    "img = Image.open(\"Luffy.jpg\")\n",
    "width, height = img.size\n",
    "print('Width = ', width)\n",
    "print('Height=' , height)"
   ]
  },
  {
   "cell_type": "code",
   "execution_count": 7,
   "id": "9f0f2849",
   "metadata": {},
   "outputs": [],
   "source": [
    "#resizing the image \n",
    "from PIL import Image\n",
    "img = Image.open('Luffy.jpg')\n",
    "img.show()\n",
    "newSize = (600, 400)\n",
    "img1 = img.resize(newSize)\n",
    "img.save(\"Resized_Luffy.jpg\")\n",
    "img1.show()"
   ]
  },
  {
   "cell_type": "code",
   "execution_count": 9,
   "id": "2d75cf22",
   "metadata": {},
   "outputs": [
    {
     "name": "stdout",
     "output_type": "stream",
     "text": [
      "(253, 254, 255)\n",
      "(207, 254, 248)\n"
     ]
    }
   ],
   "source": [
    "#get pixel of the image\n",
    "from PIL import Image\n",
    "img = Image.open('Luffy.jpg')\n",
    "pix = img.load()\n",
    "print(pix[1,100])\n",
    "coord = x, y = 135, 190\n",
    "print(img.getpixel(coord))"
   ]
  },
  {
   "cell_type": "code",
   "execution_count": 11,
   "id": "b491312e",
   "metadata": {},
   "outputs": [
    {
     "name": "stdout",
     "output_type": "stream",
     "text": [
      "(106, 166, 228)\n",
      "(0, 0, 0)\n",
      "(253, 255, 254)\n",
      "(10, 12, 15)\n"
     ]
    }
   ],
   "source": [
    "#getting the pixel of Image also coordinate\n",
    "from PIL import Image\n",
    "img = Image.open('Luffy.jpg')\n",
    "pix = img.load()\n",
    "print(pix[10, 10])\n",
    "pix[10,10] = (0, 0, 0)\n",
    "print(pix[10, 10])\n",
    "\n",
    "coord = x, y = 127 , 118\n",
    "print(img.getpixel(coord))\n",
    "img.putpixel(coord, (10,12,15,255))\n",
    "print(img.getpixel(coord))\n"
   ]
  },
  {
   "cell_type": "code",
   "execution_count": 21,
   "id": "6edde86e",
   "metadata": {},
   "outputs": [],
   "source": [
    "#set pixel of the image\n",
    "from PIL import Image\n",
    "\n",
    "img = Image.open('Luffy.jpg')\n",
    "img.show()\n",
    "width, height = img.size\n",
    "\n",
    "for x in range(min(width, height)): \n",
    "    img.putpixel((x, x), (10,10, 10,1600))\n",
    "\n",
    "img.save(\"NewLuffy.jpg\")\n",
    "img.show()"
   ]
  },
  {
   "cell_type": "code",
   "execution_count": 23,
   "id": "c472be15",
   "metadata": {},
   "outputs": [],
   "source": [
    "#seperating image into 2 using width\n",
    "from PIL import Image\n",
    "\n",
    "img = Image.open('Luffy.jpg')\n",
    "img.show()\n",
    "width, height = img.size\n",
    "nw = int(width/2)\n",
    "\n",
    "for x in range(height):\n",
    "    img.putpixel((nw, x), (50, 10, 10, 224))\n",
    "\n",
    "img.save('NWLuffy.jpg')\n",
    "img.show()"
   ]
  },
  {
   "cell_type": "code",
   "execution_count": 30,
   "id": "df44b2d8",
   "metadata": {},
   "outputs": [],
   "source": [
    "#seperating image into 2 using height\n",
    "from PIL import Image\n",
    "\n",
    "img = Image.open('Luffy.jpg')\n",
    "img.show()\n",
    "width, height = img.size\n",
    "nh = int(height/2)\n",
    "\n",
    "for x in range(width):\n",
    "    img.putpixel((x, nh), (50, 10, 10, 224))\n",
    "\n",
    "img.save('NHLuffy.jpg')\n",
    "img.show()"
   ]
  },
  {
   "cell_type": "markdown",
   "id": "1fb158ef",
   "metadata": {},
   "source": [
    "## Image Enhancment"
   ]
  },
  {
   "cell_type": "code",
   "execution_count": 31,
   "id": "183aa5b6",
   "metadata": {},
   "outputs": [],
   "source": [
    "#image negative\n",
    "\n",
    "from PIL import Image\n",
    "img = Image.open(\"Luffy.jpg\")\n",
    "img.show()\n",
    "pix = img.load()\n",
    "width, height = img.size\n",
    "for i in range(width):\n",
    "    for j in range(height):\n",
    "        r, g, b = pix[i,j]\n",
    "        pix[i,j] =(224-r, 224-g, 224-b)\n",
    "img.save('NegLuffy.jpg')        \n",
    "img.show()"
   ]
  },
  {
   "cell_type": "code",
   "execution_count": 32,
   "id": "aba6267f",
   "metadata": {},
   "outputs": [],
   "source": [
    "#image will be red\n",
    "\n",
    "from PIL import Image\n",
    "img = Image.open(\"Luffy.jpg\")\n",
    "img.show()\n",
    "width, height = img.size\n",
    "pix = img.load()\n",
    "for i in range(width):\n",
    "    for j in range(height):\n",
    "        r, g, b = pix[i,j]\n",
    "        pix[i,j] = (r, 0, 0)\n",
    "img.save('redLuffy.jpg')        \n",
    "img.show()        "
   ]
  },
  {
   "cell_type": "code",
   "execution_count": 33,
   "id": "3afa5b89",
   "metadata": {},
   "outputs": [],
   "source": [
    "#image will be green\n",
    "\n",
    "from PIL import Image\n",
    "img = Image.open(\"Luffy.jpg\")\n",
    "img.show()\n",
    "width, height = img.size\n",
    "pix = img.load()\n",
    "for i in range(width):\n",
    "    for j in range(height):\n",
    "        r, g, b = pix[i,j]\n",
    "        pix[i,j] = (0, g, 0)\n",
    "img.save('greenLuffy.jpg')        \n",
    "img.show()        "
   ]
  },
  {
   "cell_type": "code",
   "execution_count": 34,
   "id": "3922ee4b",
   "metadata": {},
   "outputs": [],
   "source": [
    "#image will be Blue\n",
    "\n",
    "from PIL import Image\n",
    "img = Image.open(\"Luffy.jpg\")\n",
    "img.show()\n",
    "width, height = img.size\n",
    "pix = img.load()\n",
    "for i in range(width):\n",
    "    for j in range(height):\n",
    "        r, g, b = pix[i,j]\n",
    "        pix[i,j] = (0, 0, b)\n",
    "img.save('BlueLuffy.jpg')        \n",
    "img.show()        "
   ]
  },
  {
   "cell_type": "code",
   "execution_count": 35,
   "id": "1d6442da",
   "metadata": {},
   "outputs": [],
   "source": [
    "#color to gray scale\n",
    "\n",
    "from PIL import Image\n",
    "img = Image.open(\"Luffy.jpg\")\n",
    "img.show()\n",
    "width, height = img.size\n",
    "pix = img.load()\n",
    "for i in range(width):\n",
    "    for j in range(height):\n",
    "        r, g, b = pix[i, j]  \n",
    "        gray = int((r + g + b)/3) \n",
    "        pix[i, j] = (gray, gray, gray)  \n",
    "img.save(\"gray_Luffy.jpg\")\n",
    "img.show()"
   ]
  },
  {
   "cell_type": "code",
   "execution_count": 41,
   "id": "cbc5f2ab",
   "metadata": {},
   "outputs": [],
   "source": [
    "#color to gray scale \n",
    "from PIL import Image\n",
    "\n",
    "img = Image.open(\"Luffy.jpg\")\n",
    "img.show()\n",
    "width, height = img.size\n",
    "pix = img.load()\n",
    "\n",
    "for i in range(width):\n",
    "    for j in range(height):\n",
    "        r, g, b = pix[i, j]\n",
    "        gray = int((r*0.299) + (g*0.587) + (b*0.114))\n",
    "        pix[i, j] = (gray, gray, gray)\n",
    "\n",
    "img.save(\"gray1_luffy.jpg\")\n",
    "img.show()"
   ]
  },
  {
   "cell_type": "code",
   "execution_count": 42,
   "id": "cff2ec91",
   "metadata": {},
   "outputs": [],
   "source": [
    "#color to sepial \n",
    "from PIL import Image\n",
    "\n",
    "img = Image.open(\"Luffy.jpg\")\n",
    "img.show()\n",
    "\n",
    "width, height = img.size\n",
    "pix = img.load()\n",
    "\n",
    "for i in range(width):\n",
    "    for j in range(height):\n",
    "        r, g, b = pix[i, j]\n",
    "        tr= (int)((r*0.393) + (g*0.769) + (b*0.189))\n",
    "        tg= (int)((r*0.348) + (g*0.686) + (b*0.168))\n",
    "        tb= (int)((r*0.272) + (g*0.543) + (b*0.131))\n",
    "        if(tr>255):\n",
    "            r =255\n",
    "        else:\n",
    "            r =tr\n",
    "        \n",
    "        if(tg>255):\n",
    "            g =255\n",
    "            \n",
    "        else:\n",
    "            g =tg\n",
    "            \n",
    "        if(tb>255):\n",
    "            b =255\n",
    "            \n",
    "        else:\n",
    "            b =tb    \n",
    "        pix[i,j] = (r, g, b)\n",
    "        \n",
    "img.save(\"Sepia_Luffy.jpg\") \n",
    "img.show()"
   ]
  },
  {
   "cell_type": "markdown",
   "id": "945d4559",
   "metadata": {},
   "source": [
    "# #contrast Streching "
   ]
  },
  {
   "cell_type": "code",
   "execution_count": 44,
   "id": "6675ae9e",
   "metadata": {},
   "outputs": [],
   "source": [
    "from PIL import Image\n",
    "img = Image.open(\"Luffy.jpg\")\n",
    "img.show()\n",
    "width, height = img.size\n",
    "pix = img.load()\n",
    "l = float(0.5)\n",
    "m = 2\n",
    "n = float(0.5)\n",
    "intenA = 50\n",
    "intenB = 120\n",
    "v = (l*intenA)\n",
    "w = (m*(intenB -intenA)+v)\n",
    "\n",
    "for i in range(width):\n",
    "    for j in range(height):\n",
    "        r, g, b = pix[i,j]\n",
    "        \n",
    "        if (r<=intenA):\n",
    "            r = (int) (l*r)\n",
    "        elif(r<=intenB):\n",
    "            r = (int) (m*(r-intenA)+v)\n",
    "        else:\n",
    "            r = (int)(n*(r-intenB)+w)\n",
    "      \n",
    "        if (g<=intenA):\n",
    "            g = (int) (l*g)\n",
    "        elif(g<=intenB):\n",
    "            g = (int) (m*(g-intenA)+v)\n",
    "        else:\n",
    "            g = (int)(n*(g-intenB)+w)  \n",
    "            \n",
    "        if (b<=intenA):\n",
    "            b = (int) (l*b)\n",
    "        elif(b<=intenB):\n",
    "            b = (int) (m*(b-intenA)+v)\n",
    "        else:\n",
    "            b = (int)(n*(b-intenB)+w)    \n",
    "        \n",
    "        if r>255:\n",
    "            r=255\n",
    "        if g>255:\n",
    "            g=255    \n",
    "        if b>255:\n",
    "            b=255    \n",
    "            \n",
    "        pix[i,j] = (r, g, b)\n",
    "            \n",
    "img.save(\"contrast_Luffy.jpg\")\n",
    "img.show()\n",
    "            \n",
    "            \n",
    "            \n",
    "        "
   ]
  },
  {
   "cell_type": "code",
   "execution_count": null,
   "id": "06105b9b",
   "metadata": {},
   "outputs": [],
   "source": []
  }
 ],
 "metadata": {
  "kernelspec": {
   "display_name": "Python 3 (ipykernel)",
   "language": "python",
   "name": "python3"
  },
  "language_info": {
   "codemirror_mode": {
    "name": "ipython",
    "version": 3
   },
   "file_extension": ".py",
   "mimetype": "text/x-python",
   "name": "python",
   "nbconvert_exporter": "python",
   "pygments_lexer": "ipython3",
   "version": "3.11.3"
  }
 },
 "nbformat": 4,
 "nbformat_minor": 5
}

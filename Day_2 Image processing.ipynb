{
 "cells": [
  {
   "cell_type": "markdown",
   "id": "7b4e2854",
   "metadata": {},
   "source": [
    "# Day 2 Image processing\n",
    "\n"
   ]
  },
  {
   "cell_type": "code",
   "execution_count": 1,
   "id": "8f16f410",
   "metadata": {},
   "outputs": [],
   "source": [
    "#threshold of image\n",
    "from PIL import Image\n",
    "img = Image.open(\"Luffy.jpg\")\n",
    "img.show()\n",
    "width, height = img.size\n",
    "pix = img.load()\n",
    "\n",
    "thresh = 120\n",
    "for i in range(width):\n",
    "    for j in range (height):\n",
    "        r, g, b = pix[i,j]\n",
    "        avg = (r+g+b)/3\n",
    "        \n",
    "        if avg>thresh:\n",
    "            pix[i,j] = (255, 255, 255)\n",
    "        else:\n",
    "            pix[i,j] = (0, 0, 0)\n",
    "\n",
    "img.save('threshLuffy.jpg') \n",
    "img.show()"
   ]
  },
  {
   "cell_type": "code",
   "execution_count": 8,
   "id": "5f2585d7",
   "metadata": {},
   "outputs": [],
   "source": [
    "#gray level slicing without background\n",
    "from PIL import Image\n",
    "img = Image.open(\"Luffy.jpg\")\n",
    "img.show()\n",
    "width, height = img.size\n",
    "pix = img.load()\n",
    "\n",
    "intenA = 120\n",
    "intenB = 185\n",
    "\n",
    "for i in range(width):\n",
    "    for j in range(height):\n",
    "        r, g, b = pix[i,j]\n",
    "        \n",
    "        if (intenA<=r and r<=intenB) or (intenA<=g and g>=intenB) or (intenA<=b and b>=intenB):\n",
    "            r=g=b=255\n",
    "        else:\n",
    "            r=r\n",
    "            g=g\n",
    "            b=b\n",
    "        pix[i,j] = (r,g,b)\n",
    "img.save(\"grayslicingBack_Luffy.jpg\")\n",
    "img.show()"
   ]
  },
  {
   "cell_type": "code",
   "execution_count": 10,
   "id": "b486dc3f",
   "metadata": {},
   "outputs": [],
   "source": [
    "#gray level slicing with background\n",
    "from PIL import Image\n",
    "img = Image.open(\"Luffy.jpg\")\n",
    "img.show()\n",
    "width, height = img.size\n",
    "pix = img.load()\n",
    "\n",
    "intenA = 120\n",
    "intenB = 185\n",
    "\n",
    "for i in range(width):\n",
    "    for j in range(height):\n",
    "        r, g, b = pix[i,j]\n",
    "        \n",
    "        if (intenA<=r and r<=intenB) or (intenA<=g and g>=intenB) or (intenA<=b and b>=intenB):\n",
    "            r=g=b=255\n",
    "        else:\n",
    "            r=r\n",
    "            g=g\n",
    "            b=b\n",
    "        pix[i,j] = (r,g,b)\n",
    "img.save(\"grayslicingWBack_Luffy.jpg\")\n",
    "img.show()"
   ]
  },
  {
   "cell_type": "markdown",
   "id": "25684688",
   "metadata": {},
   "source": [
    "\n",
    "# Image Filtering"
   ]
  },
  {
   "cell_type": "code",
   "execution_count": 13,
   "id": "01aacf65",
   "metadata": {},
   "outputs": [],
   "source": [
    "#Low pass Filtering\n",
    "from PIL import Image, ImageFilter\n",
    "img = Image.open(\"Animal.jpg\")\n",
    "img.show()\n",
    "\n",
    "img1 = img.filter(ImageFilter.Kernel((3,3), (1,1,1,1,1,1,1,1,1), 9, 0))\n",
    "img1.save(\"LPF_Animal.jpg\")\n",
    "img1.show()"
   ]
  },
  {
   "cell_type": "code",
   "execution_count": 20,
   "id": "569db125",
   "metadata": {},
   "outputs": [],
   "source": [
    "#High pass filtering\n",
    "from PIL import Image, ImageFilter\n",
    "img = Image.open(\"Animal.jpg\")\n",
    "img.show()\n",
    "\n",
    "img1 = img.filter(ImageFilter.Kernel((3,3), (-1,-1,-1,-1,8,-1,-1,-1,-1), 1, 0))\n",
    "img1.save(\"HPF_Animal.jpg\")\n",
    "img1.show()"
   ]
  },
  {
   "cell_type": "code",
   "execution_count": 30,
   "id": "f3915f3e",
   "metadata": {},
   "outputs": [],
   "source": [
    "#High Boost filtering\n",
    "from PIL import Image, ImageFilter\n",
    "img = Image.open(\"Animal.jpg\")\n",
    "img.show()\n",
    "\n",
    "img1 = img.filter(ImageFilter.Kernel((3,3), (-1,-1,-1,-1,9,-1,-1,-1,-1), 1, 0))\n",
    "img1.save(\"HBF_Animal.jpg\")\n",
    "img1.show()"
   ]
  },
  {
   "cell_type": "code",
   "execution_count": 35,
   "id": "2c856a5f",
   "metadata": {},
   "outputs": [],
   "source": [
    "#blur image\n",
    "from PIL import Image, ImageFilter\n",
    "img = Image.open(\"Luffy.jpg\")\n",
    "img.show()\n",
    "\n",
    "img1 = img.filter(ImageFilter.Kernel((5,5), (1,1,1,1,1,1,0,0,0,1,1,0,0,0,1,1,0,0,0,1,1,1,1,1,1), 16, 0))\n",
    "img1.save(\"Blur_Luffy.jpg\")\n",
    "img1.show()"
   ]
  },
  {
   "cell_type": "code",
   "execution_count": 37,
   "id": "2dcb7e91",
   "metadata": {},
   "outputs": [],
   "source": [
    "#Contour\n",
    "from PIL import Image, ImageFilter\n",
    "img = Image.open(\"Luffy.jpg\")\n",
    "img.show()\n",
    "\n",
    "img1 = img.filter(ImageFilter.Kernel((3,3), (-1,-1,-1,-1,8,-1,-1,-1,-1), 1, 255))\n",
    "img1.save(\"Contour_Luffy.jpg\")\n",
    "img1.show()"
   ]
  },
  {
   "cell_type": "code",
   "execution_count": 38,
   "id": "aca1cb81",
   "metadata": {},
   "outputs": [],
   "source": [
    "#detailed\n",
    "from PIL import Image, ImageFilter\n",
    "img = Image.open(\"Luffy.jpg\")\n",
    "img.show()\n",
    "\n",
    "img1 = img.filter(ImageFilter.Kernel((3,3), (-1,-1,-1,-1,10,-1,-1,-1,-1), 6, 0))\n",
    "img1.save(\"Detailed_Luffy.jpg\")\n",
    "img1.show()"
   ]
  },
  {
   "cell_type": "code",
   "execution_count": 42,
   "id": "dd1ada56",
   "metadata": {},
   "outputs": [],
   "source": [
    "#Edge enhance\n",
    "from PIL import Image, ImageFilter\n",
    "img = Image.open(\"Animal.jpg\")\n",
    "img.show()\n",
    "\n",
    "img1 = img.filter(ImageFilter.Kernel((3,3), (-1,-1,-1,-1,10,-1,-1,-1,-1), 2, 0))\n",
    "img1.save(\"EdgeEnhance_Animal.jpg\")\n",
    "img1.show()"
   ]
  },
  {
   "cell_type": "code",
   "execution_count": 48,
   "id": "070fc1c8",
   "metadata": {},
   "outputs": [],
   "source": [
    "#sharpen\n",
    "\n",
    "from PIL import Image, ImageFilter\n",
    "img = Image.open(\"Luffy.jpg\")\n",
    "img.show()\n",
    "\n",
    "img1 = img.filter(ImageFilter.Kernel((3,3), (-2,-2,-2,-2,32,-2,-2,-2,-2),16,50))\n",
    "img1.save(\"Sharpen_Luffy.jpg\")\n",
    "img1.show()"
   ]
  },
  {
   "cell_type": "code",
   "execution_count": 44,
   "id": "b7fef00a",
   "metadata": {},
   "outputs": [],
   "source": [
    "#smooth\n",
    "from PIL import Image, ImageFilter\n",
    "img = Image.open(\"Animal.jpg\")\n",
    "img.show()\n",
    "\n",
    "img1 = img.filter(ImageFilter.Kernel((3,3), (1,1,1,1,5,1,1,1,1),13,0))\n",
    "img1.save(\"Smooth_Animal.jpg\")\n",
    "img1.show()"
   ]
  },
  {
   "cell_type": "code",
   "execution_count": 51,
   "id": "464a4d4b",
   "metadata": {},
   "outputs": [],
   "source": [
    "#Smooth More\n",
    "from PIL import Image, ImageFilter\n",
    "img = Image.open(\"Luffy.jpg\")\n",
    "img.show()\n",
    "\n",
    "img1 = img.filter(ImageFilter.Kernel((5,5), (1,1,1,1,1,1,5,5,5,1,1,5,44,5,1,1,5,5,5,1,1,1,1,1,1), 50,0))\n",
    "img1.save(\"SmoothM_Luffy.jpg\")\n",
    "img1.show()"
   ]
  },
  {
   "cell_type": "markdown",
   "id": "30944d20",
   "metadata": {},
   "source": [
    "# Convolution\n"
   ]
  },
  {
   "cell_type": "code",
   "execution_count": 12,
   "id": "70566a5a",
   "metadata": {},
   "outputs": [
    {
     "name": "stdout",
     "output_type": "stream",
     "text": [
      "[-1, -1, -1]\n",
      "[-1, 5, -1]\n",
      "[-1, -1, -1]\n",
      "Flattened Kernel: [-1, -1, -1, -1, 5, -1, -1, -1, -1]\n"
     ]
    }
   ],
   "source": [
    "from PIL import Image, ImageFilter\n",
    "\n",
    "# Open the image\n",
    "img = Image.open(\"Luffy.jpg\")\n",
    "img.show()\n",
    "\n",
    "# Define the original kernel\n",
    "kernel_Orig = [\n",
    "    [-1, -1, -1],\n",
    "    [-1, 5, -1],\n",
    "    [-1, -1, -1]\n",
    "]\n",
    "\n",
    "# Reverse the kernel\n",
    "kernel = [list(reversed(row)) for row in reversed(kernel_Orig)]\n",
    "\n",
    "for row in kernel:\n",
    "    print(row)\n",
    "\n",
    "# Flatten the kernel\n",
    "flattened_kernel = [element for row in kernel for element in row]\n",
    "print(\"Flattened Kernel:\", flattened_kernel)\n",
    "\n",
    "# Create a custom kernel filter\n",
    "kernel_size = 3  # Assuming the kernel is 3x3\n",
    "img1 = img.filter(ImageFilter.Kernel((kernel_size, kernel_size), flattened_kernel, scale=1, offset=255))\n",
    "\n",
    "# Save and show the filtered image\n",
    "img1.save(\"ConvolutionLuffy.jpg\")\n",
    "img1.show()\n"
   ]
  },
  {
   "cell_type": "code",
   "execution_count": null,
   "id": "a0ef5633",
   "metadata": {},
   "outputs": [],
   "source": []
  },
  {
   "cell_type": "code",
   "execution_count": null,
   "id": "672f4433",
   "metadata": {},
   "outputs": [],
   "source": []
  },
  {
   "cell_type": "code",
   "execution_count": null,
   "id": "56b6667b",
   "metadata": {},
   "outputs": [],
   "source": []
  },
  {
   "cell_type": "code",
   "execution_count": null,
   "id": "3a4c8497",
   "metadata": {},
   "outputs": [],
   "source": []
  }
 ],
 "metadata": {
  "kernelspec": {
   "display_name": "Python 3 (ipykernel)",
   "language": "python",
   "name": "python3"
  },
  "language_info": {
   "codemirror_mode": {
    "name": "ipython",
    "version": 3
   },
   "file_extension": ".py",
   "mimetype": "text/x-python",
   "name": "python",
   "nbconvert_exporter": "python",
   "pygments_lexer": "ipython3",
   "version": "3.11.3"
  }
 },
 "nbformat": 4,
 "nbformat_minor": 5
}
